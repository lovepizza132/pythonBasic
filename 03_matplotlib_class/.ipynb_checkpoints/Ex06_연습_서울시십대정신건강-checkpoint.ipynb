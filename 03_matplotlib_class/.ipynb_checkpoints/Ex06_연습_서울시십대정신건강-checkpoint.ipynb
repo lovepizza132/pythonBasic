{
 "cells": [
  {
   "cell_type": "markdown",
   "metadata": {},
   "source": [
    "# [연습문제] 서울시 청소년 정신 건강\n",
    "\n",
    "\n",
    "[서울열린데이타광장](http://data.seoul.go.kr/dataList/datasetView.do?infId=10956&srvType=S&serviceKind=2) 사이트에서\n",
    "\n",
    "엑셀파일을 다운받습니다.\n",
    "<img src='./images/엑셀파일가져오기.PNG'/>\n",
    "\n",
    "현재 디렉토리에 data 폴더에 저장한 후 저장한 엑셀파일명을 영문으로 수정하는 것을 권장합니다.\n",
    "\n",
    "한글 파일명도 인식은 되지만 추후에 어떤 문제가 발생할 지도 모르기에 영문을 권장한다고 합니다.\n",
    "\n"
   ]
  },
  {
   "cell_type": "markdown",
   "metadata": {},
   "source": [
    "### (1) 엑셀파일에서 데이타 가져오기\n",
    "\n",
    "#### 1-1 우선 파일을 읽어서 출력\n",
    "\n",
    "[출력결과]\n",
    "<img src='./images/출력1.PNG'/>"
   ]
  },
  {
   "cell_type": "code",
   "execution_count": 1,
   "metadata": {
    "scrolled": true
   },
   "outputs": [
    {
     "data": {
      "text/html": [
       "<div>\n",
       "<style scoped>\n",
       "    .dataframe tbody tr th:only-of-type {\n",
       "        vertical-align: middle;\n",
       "    }\n",
       "\n",
       "    .dataframe tbody tr th {\n",
       "        vertical-align: top;\n",
       "    }\n",
       "\n",
       "    .dataframe thead th {\n",
       "        text-align: right;\n",
       "    }\n",
       "</style>\n",
       "<table border=\"1\" class=\"dataframe\">\n",
       "  <thead>\n",
       "    <tr style=\"text-align: right;\">\n",
       "      <th></th>\n",
       "      <th>기간</th>\n",
       "      <th>구분</th>\n",
       "      <th>스트레스 인지율</th>\n",
       "      <th>스트레스 인지율.1</th>\n",
       "      <th>스트레스 인지율.2</th>\n",
       "      <th>우울감 경험률</th>\n",
       "      <th>우울감 경험률.1</th>\n",
       "      <th>우울감 경험률.2</th>\n",
       "      <th>자살 생각률</th>\n",
       "      <th>자살 생각률.1</th>\n",
       "      <th>자살 생각률.2</th>\n",
       "    </tr>\n",
       "  </thead>\n",
       "  <tbody>\n",
       "    <tr>\n",
       "      <th>0</th>\n",
       "      <td>기간</td>\n",
       "      <td>구분</td>\n",
       "      <td>전체</td>\n",
       "      <td>남학생</td>\n",
       "      <td>여학생</td>\n",
       "      <td>전체</td>\n",
       "      <td>남학생</td>\n",
       "      <td>여학생</td>\n",
       "      <td>전체</td>\n",
       "      <td>남학생</td>\n",
       "      <td>여학생</td>\n",
       "    </tr>\n",
       "    <tr>\n",
       "      <th>1</th>\n",
       "      <td>2019</td>\n",
       "      <td>구분</td>\n",
       "      <td>41.6</td>\n",
       "      <td>34</td>\n",
       "      <td>49.7</td>\n",
       "      <td>29.5</td>\n",
       "      <td>24.5</td>\n",
       "      <td>34.8</td>\n",
       "      <td>14.2</td>\n",
       "      <td>10.8</td>\n",
       "      <td>17.9</td>\n",
       "    </tr>\n",
       "  </tbody>\n",
       "</table>\n",
       "</div>"
      ],
      "text/plain": [
       "     기간  구분 스트레스 인지율 스트레스 인지율.1 스트레스 인지율.2 우울감 경험률 우울감 경험률.1 우울감 경험률.2 자살 생각률  \\\n",
       "0    기간  구분       전체        남학생        여학생      전체       남학생       여학생     전체   \n",
       "1  2019  구분     41.6         34       49.7    29.5      24.5      34.8   14.2   \n",
       "\n",
       "  자살 생각률.1 자살 생각률.2  \n",
       "0      남학생      여학생  \n",
       "1     10.8     17.9  "
      ]
     },
     "execution_count": 1,
     "metadata": {},
     "output_type": "execute_result"
    }
   ],
   "source": [
    "# 여기에 코드\n",
    "import pandas as pd\n",
    "df = pd.read_excel('./data/report.xlsx')\n",
    "df"
   ]
  },
  {
   "cell_type": "markdown",
   "metadata": {},
   "source": [
    "### 1-2 엑셀에서 필요한 부분만 추출하자\n",
    "\n",
    "* header=1  :  첫번째 행을 제목으로\n",
    "\n",
    "* usecols : 해당컬럼\n",
    "\n",
    "[출력결과]\n",
    "<img src='./images/출력2.PNG'/>"
   ]
  },
  {
   "cell_type": "code",
   "execution_count": 2,
   "metadata": {},
   "outputs": [
    {
     "data": {
      "text/html": [
       "<div>\n",
       "<style scoped>\n",
       "    .dataframe tbody tr th:only-of-type {\n",
       "        vertical-align: middle;\n",
       "    }\n",
       "\n",
       "    .dataframe tbody tr th {\n",
       "        vertical-align: top;\n",
       "    }\n",
       "\n",
       "    .dataframe thead th {\n",
       "        text-align: right;\n",
       "    }\n",
       "</style>\n",
       "<table border=\"1\" class=\"dataframe\">\n",
       "  <thead>\n",
       "    <tr style=\"text-align: right;\">\n",
       "      <th></th>\n",
       "      <th>전체</th>\n",
       "      <th>남학생</th>\n",
       "      <th>여학생</th>\n",
       "      <th>전체.1</th>\n",
       "      <th>남학생.1</th>\n",
       "      <th>여학생.1</th>\n",
       "      <th>전체.2</th>\n",
       "      <th>남학생.2</th>\n",
       "      <th>여학생.2</th>\n",
       "    </tr>\n",
       "  </thead>\n",
       "  <tbody>\n",
       "    <tr>\n",
       "      <th>0</th>\n",
       "      <td>41.6</td>\n",
       "      <td>34</td>\n",
       "      <td>49.7</td>\n",
       "      <td>29.5</td>\n",
       "      <td>24.5</td>\n",
       "      <td>34.8</td>\n",
       "      <td>14.2</td>\n",
       "      <td>10.8</td>\n",
       "      <td>17.9</td>\n",
       "    </tr>\n",
       "  </tbody>\n",
       "</table>\n",
       "</div>"
      ],
      "text/plain": [
       "     전체  남학생   여학생  전체.1  남학생.1  여학생.1  전체.2  남학생.2  여학생.2\n",
       "0  41.6   34  49.7  29.5   24.5   34.8  14.2   10.8   17.9"
      ]
     },
     "execution_count": 2,
     "metadata": {},
     "output_type": "execute_result"
    }
   ],
   "source": [
    "# 여기에 코드\n",
    "df = pd.read_excel('./data/report.xlsx', header=1, usecols='C:K')\n",
    "df"
   ]
  },
  {
   "cell_type": "markdown",
   "metadata": {},
   "source": [
    "### 1-3 컬럼명을 지정하여 데이타 가져오기 (변수에 저장)\n",
    "\n",
    "[출력결과]\n",
    "<img src='./images/출력3.PNG'/>"
   ]
  },
  {
   "cell_type": "code",
   "execution_count": 3,
   "metadata": {},
   "outputs": [
    {
     "data": {
      "text/html": [
       "<div>\n",
       "<style scoped>\n",
       "    .dataframe tbody tr th:only-of-type {\n",
       "        vertical-align: middle;\n",
       "    }\n",
       "\n",
       "    .dataframe tbody tr th {\n",
       "        vertical-align: top;\n",
       "    }\n",
       "\n",
       "    .dataframe thead th {\n",
       "        text-align: right;\n",
       "    }\n",
       "</style>\n",
       "<table border=\"1\" class=\"dataframe\">\n",
       "  <thead>\n",
       "    <tr style=\"text-align: right;\">\n",
       "      <th></th>\n",
       "      <th>스트레스</th>\n",
       "      <th>스트레스남학생</th>\n",
       "      <th>스트레스여학생</th>\n",
       "      <th>우을감경험률</th>\n",
       "      <th>우울남학생</th>\n",
       "      <th>우울여학생</th>\n",
       "      <th>자살생각율</th>\n",
       "      <th>자살남학생</th>\n",
       "      <th>자살여학생</th>\n",
       "    </tr>\n",
       "  </thead>\n",
       "  <tbody>\n",
       "    <tr>\n",
       "      <th>0</th>\n",
       "      <td>41.6</td>\n",
       "      <td>34</td>\n",
       "      <td>49.7</td>\n",
       "      <td>29.5</td>\n",
       "      <td>24.5</td>\n",
       "      <td>34.8</td>\n",
       "      <td>14.2</td>\n",
       "      <td>10.8</td>\n",
       "      <td>17.9</td>\n",
       "    </tr>\n",
       "  </tbody>\n",
       "</table>\n",
       "</div>"
      ],
      "text/plain": [
       "   스트레스  스트레스남학생  스트레스여학생  우을감경험률  우울남학생  우울여학생  자살생각율  자살남학생  자살여학생\n",
       "0  41.6       34     49.7    29.5   24.5   34.8   14.2   10.8   17.9"
      ]
     },
     "execution_count": 3,
     "metadata": {},
     "output_type": "execute_result"
    }
   ],
   "source": [
    "# 컬럼이름을 지정\n",
    "col_names = ['스트레스','스트레스남학생','스트레스여학생',\n",
    "            '우을감경험률','우울남학생','우울여학생',\n",
    "            '자살생각율','자살남학생','자살여학생']\n",
    "\n",
    "# 변수에 저장하기(raw_data)\n",
    "\n",
    "# 여기에 코드\n",
    "raw_data = pd.read_excel('./data/report.xlsx', header=1, usecols='C:K', names=col_names)\n",
    "#raw_data.columns=col_names\n",
    "raw_data"
   ]
  },
  {
   "cell_type": "markdown",
   "metadata": {},
   "source": [
    "### (2) 해당 데이타값의 반대값으로 행을 추가\n",
    "\n",
    "예를 들어 스트레스를 받는다고 응답한 수가 42.7이면 \n",
    "\n",
    "아니라고 응답한 수가 100 - 42.7= 57.3 이다.\n",
    "\n",
    "각 항목에 반대로 응답한 수의 값을 행으로 추가한다\n",
    "\n",
    "<img src='./images/출력4.PNG'>"
   ]
  },
  {
   "cell_type": "code",
   "execution_count": 4,
   "metadata": {},
   "outputs": [
    {
     "data": {
      "text/html": [
       "<div>\n",
       "<style scoped>\n",
       "    .dataframe tbody tr th:only-of-type {\n",
       "        vertical-align: middle;\n",
       "    }\n",
       "\n",
       "    .dataframe tbody tr th {\n",
       "        vertical-align: top;\n",
       "    }\n",
       "\n",
       "    .dataframe thead th {\n",
       "        text-align: right;\n",
       "    }\n",
       "</style>\n",
       "<table border=\"1\" class=\"dataframe\">\n",
       "  <thead>\n",
       "    <tr style=\"text-align: right;\">\n",
       "      <th></th>\n",
       "      <th>스트레스</th>\n",
       "      <th>스트레스남학생</th>\n",
       "      <th>스트레스여학생</th>\n",
       "      <th>우을감경험률</th>\n",
       "      <th>우울남학생</th>\n",
       "      <th>우울여학생</th>\n",
       "      <th>자살생각율</th>\n",
       "      <th>자살남학생</th>\n",
       "      <th>자살여학생</th>\n",
       "    </tr>\n",
       "  </thead>\n",
       "  <tbody>\n",
       "    <tr>\n",
       "      <th>0</th>\n",
       "      <td>41.6</td>\n",
       "      <td>34.0</td>\n",
       "      <td>49.7</td>\n",
       "      <td>29.5</td>\n",
       "      <td>24.5</td>\n",
       "      <td>34.8</td>\n",
       "      <td>14.2</td>\n",
       "      <td>10.8</td>\n",
       "      <td>17.9</td>\n",
       "    </tr>\n",
       "    <tr>\n",
       "      <th>1</th>\n",
       "      <td>58.4</td>\n",
       "      <td>66.0</td>\n",
       "      <td>50.3</td>\n",
       "      <td>70.5</td>\n",
       "      <td>75.5</td>\n",
       "      <td>65.2</td>\n",
       "      <td>85.8</td>\n",
       "      <td>89.2</td>\n",
       "      <td>82.1</td>\n",
       "    </tr>\n",
       "  </tbody>\n",
       "</table>\n",
       "</div>"
      ],
      "text/plain": [
       "   스트레스  스트레스남학생  스트레스여학생  우을감경험률  우울남학생  우울여학생  자살생각율  자살남학생  자살여학생\n",
       "0  41.6     34.0     49.7    29.5   24.5   34.8   14.2   10.8   17.9\n",
       "1  58.4     66.0     50.3    70.5   75.5   65.2   85.8   89.2   82.1"
      ]
     },
     "execution_count": 4,
     "metadata": {},
     "output_type": "execute_result"
    }
   ],
   "source": [
    "# 반대의 데이타값을 가지는 행을 추가한다\n",
    "\n",
    "# 여기에 코드\n",
    "raw_data = pd.read_excel('./data/report.xlsx', header=1, usecols='C:K', names=col_names)\n",
    "raw_data.loc[1]=100-raw_data.loc[0]\n",
    "raw_data"
   ]
  },
  {
   "cell_type": "markdown",
   "metadata": {},
   "source": [
    "### (3) 응답 컬럼을 추가\n",
    "\n",
    "- 0번째 데이타는 '그렇다'\n",
    "- 1번째 데이타는 '아니다'\n",
    "\n",
    "\n",
    "[출력결과]\n",
    "<img src='./images/출력5.PNG'/>"
   ]
  },
  {
   "cell_type": "code",
   "execution_count": 5,
   "metadata": {},
   "outputs": [
    {
     "data": {
      "text/html": [
       "<div>\n",
       "<style scoped>\n",
       "    .dataframe tbody tr th:only-of-type {\n",
       "        vertical-align: middle;\n",
       "    }\n",
       "\n",
       "    .dataframe tbody tr th {\n",
       "        vertical-align: top;\n",
       "    }\n",
       "\n",
       "    .dataframe thead th {\n",
       "        text-align: right;\n",
       "    }\n",
       "</style>\n",
       "<table border=\"1\" class=\"dataframe\">\n",
       "  <thead>\n",
       "    <tr style=\"text-align: right;\">\n",
       "      <th></th>\n",
       "      <th>스트레스</th>\n",
       "      <th>스트레스남학생</th>\n",
       "      <th>스트레스여학생</th>\n",
       "      <th>우을감경험률</th>\n",
       "      <th>우울남학생</th>\n",
       "      <th>우울여학생</th>\n",
       "      <th>자살생각율</th>\n",
       "      <th>자살남학생</th>\n",
       "      <th>자살여학생</th>\n",
       "      <th>응답</th>\n",
       "    </tr>\n",
       "  </thead>\n",
       "  <tbody>\n",
       "    <tr>\n",
       "      <th>0</th>\n",
       "      <td>41.6</td>\n",
       "      <td>34.0</td>\n",
       "      <td>49.7</td>\n",
       "      <td>29.5</td>\n",
       "      <td>24.5</td>\n",
       "      <td>34.8</td>\n",
       "      <td>14.2</td>\n",
       "      <td>10.8</td>\n",
       "      <td>17.9</td>\n",
       "      <td>그렇다</td>\n",
       "    </tr>\n",
       "    <tr>\n",
       "      <th>1</th>\n",
       "      <td>58.4</td>\n",
       "      <td>66.0</td>\n",
       "      <td>50.3</td>\n",
       "      <td>70.5</td>\n",
       "      <td>75.5</td>\n",
       "      <td>65.2</td>\n",
       "      <td>85.8</td>\n",
       "      <td>89.2</td>\n",
       "      <td>82.1</td>\n",
       "      <td>아니다</td>\n",
       "    </tr>\n",
       "  </tbody>\n",
       "</table>\n",
       "</div>"
      ],
      "text/plain": [
       "   스트레스  스트레스남학생  스트레스여학생  우을감경험률  우울남학생  우울여학생  자살생각율  자살남학생  자살여학생   응답\n",
       "0  41.6     34.0     49.7    29.5   24.5   34.8   14.2   10.8   17.9  그렇다\n",
       "1  58.4     66.0     50.3    70.5   75.5   65.2   85.8   89.2   82.1  아니다"
      ]
     },
     "execution_count": 5,
     "metadata": {},
     "output_type": "execute_result"
    }
   ],
   "source": [
    "# 응답 컬럼으로 '그렇다'와 '아니다' 값을 추가\n",
    "# 여기에 코드\n",
    "raw_data['응답']=['그렇다','아니다']\n",
    "raw_data"
   ]
  },
  {
   "cell_type": "markdown",
   "metadata": {},
   "source": [
    "### (4) 응답컬럼을 인덱스로 만든다\n",
    "\n",
    " - drop=True : 기존 인덱스 컬럼을 제거   \n",
    "    \n",
    " - inplace=True : 현재 데이타프레임으로 대치되어 변수지정을 안해도 된다 \n",
    "    \n",
    "    \n",
    "[출력결과]    \n",
    "<img src='./images/출력6.PNG'/>    "
   ]
  },
  {
   "cell_type": "code",
   "execution_count": 6,
   "metadata": {},
   "outputs": [
    {
     "data": {
      "text/html": [
       "<div>\n",
       "<style scoped>\n",
       "    .dataframe tbody tr th:only-of-type {\n",
       "        vertical-align: middle;\n",
       "    }\n",
       "\n",
       "    .dataframe tbody tr th {\n",
       "        vertical-align: top;\n",
       "    }\n",
       "\n",
       "    .dataframe thead th {\n",
       "        text-align: right;\n",
       "    }\n",
       "</style>\n",
       "<table border=\"1\" class=\"dataframe\">\n",
       "  <thead>\n",
       "    <tr style=\"text-align: right;\">\n",
       "      <th></th>\n",
       "      <th>스트레스</th>\n",
       "      <th>스트레스남학생</th>\n",
       "      <th>스트레스여학생</th>\n",
       "      <th>우을감경험률</th>\n",
       "      <th>우울남학생</th>\n",
       "      <th>우울여학생</th>\n",
       "      <th>자살생각율</th>\n",
       "      <th>자살남학생</th>\n",
       "      <th>자살여학생</th>\n",
       "    </tr>\n",
       "    <tr>\n",
       "      <th>응답</th>\n",
       "      <th></th>\n",
       "      <th></th>\n",
       "      <th></th>\n",
       "      <th></th>\n",
       "      <th></th>\n",
       "      <th></th>\n",
       "      <th></th>\n",
       "      <th></th>\n",
       "      <th></th>\n",
       "    </tr>\n",
       "  </thead>\n",
       "  <tbody>\n",
       "    <tr>\n",
       "      <th>그렇다</th>\n",
       "      <td>41.6</td>\n",
       "      <td>34.0</td>\n",
       "      <td>49.7</td>\n",
       "      <td>29.5</td>\n",
       "      <td>24.5</td>\n",
       "      <td>34.8</td>\n",
       "      <td>14.2</td>\n",
       "      <td>10.8</td>\n",
       "      <td>17.9</td>\n",
       "    </tr>\n",
       "    <tr>\n",
       "      <th>아니다</th>\n",
       "      <td>58.4</td>\n",
       "      <td>66.0</td>\n",
       "      <td>50.3</td>\n",
       "      <td>70.5</td>\n",
       "      <td>75.5</td>\n",
       "      <td>65.2</td>\n",
       "      <td>85.8</td>\n",
       "      <td>89.2</td>\n",
       "      <td>82.1</td>\n",
       "    </tr>\n",
       "  </tbody>\n",
       "</table>\n",
       "</div>"
      ],
      "text/plain": [
       "     스트레스  스트레스남학생  스트레스여학생  우을감경험률  우울남학생  우울여학생  자살생각율  자살남학생  자살여학생\n",
       "응답                                                                    \n",
       "그렇다  41.6     34.0     49.7    29.5   24.5   34.8   14.2   10.8   17.9\n",
       "아니다  58.4     66.0     50.3    70.5   75.5   65.2   85.8   89.2   82.1"
      ]
     },
     "execution_count": 6,
     "metadata": {},
     "output_type": "execute_result"
    }
   ],
   "source": [
    "# 여기에 코드\n",
    "raw_data2 = raw_data.set_index('응답')\n",
    "raw_data2"
   ]
  },
  {
   "cell_type": "markdown",
   "metadata": {},
   "source": [
    "# 시각화로 아래와 같이 출력하세요\n",
    "\n",
    "[그래프 1]\n",
    "\n",
    "<img src='./images/결과1.PNG'/>\n",
    "\n",
    "\n",
    "---\n",
    "[그래프 2]\n",
    "<img src='./images/결과2.PNG'/>"
   ]
  },
  {
   "cell_type": "code",
   "execution_count": 7,
   "metadata": {},
   "outputs": [],
   "source": [
    "%matplotlib inline\n",
    "\n",
    "import matplotlib.pyplot as plt\n",
    "\n",
    "from matplotlib import font_manager, rc\n",
    "\n",
    "# 폰트를 변경하면 '-' 기호가 네모로 변경되기에 '-'기호를 변경하지 않도록 설정\n",
    "plt.rcParams['axes.unicode_minus'] = False\n",
    "\n",
    "f_path = 'c:/Windows/Fonts/malgun.ttf'\n",
    "font_name = font_manager.FontProperties(fname=f_path).get_name()\n",
    "rc('font', family=font_name)"
   ]
  },
  {
   "cell_type": "code",
   "execution_count": 19,
   "metadata": {},
   "outputs": [
    {
     "data": {
      "image/png": "[encoded data removed]",
      "text/plain": [
       "<Figure size 432x288 with 1 Axes>"
      ]
     },
     "metadata": {},
     "output_type": "display_data"
    }
   ],
   "source": [
    "# 여기에 코드\n",
    "rs=raw_data2['스트레스']\n",
    "plt.pie(rs, labels=['그렇다', '아니다'], explode=[0, 0.02], autopct='%0.1f%%')\n",
    "plt.title('스트레스를 받은 적 ');\n"
   ]
  },
  {
   "cell_type": "markdown",
   "metadata": {},
   "source": [
    "#### [참고] 그래프 내부를 조금 간격을 줄 때 ( 가운데 중심점을 기준으로 )\n",
    "\n",
    "explode=[0, 0.02] \n",
    "\n",
    "그렇다 부분은 0\n",
    "\n",
    "아니다 부분은 0.02"
   ]
  },
  {
   "cell_type": "code",
   "execution_count": 20,
   "metadata": {},
   "outputs": [
    {
     "data": {
      "image/png": "[encoded data removed]",
      "text/plain": [
       "<Figure size 432x288 with 1 Axes>"
      ]
     },
     "metadata": {},
     "output_type": "display_data"
    }
   ],
   "source": [
    "# 여기에 코드\n",
    "rs=raw_data2['우을감경험률']\n",
    "plt.pie(rs, labels=['그렇다', '아니다'], explode=[0, 0.02], autopct='%0.1f%%')\n",
    "plt.title('우울증을 경험한 적 있다');"
   ]
  },
  {
   "cell_type": "markdown",
   "metadata": {},
   "source": [
    "### 제목을 추가하고 y축 라벨을 지우기\n",
    "\n",
    "판다스에서 제공하는 plot()함수를 처음에 사용하였기에\n",
    "\n",
    "figure와 axex 객체(?)를  matplotlib 에서  따로 얻어와야 한다"
   ]
  },
  {
   "cell_type": "code",
   "execution_count": 21,
   "metadata": {},
   "outputs": [
    {
     "data": {
      "image/png": "[encoded data removed]",
      "text/plain": [
       "<Figure size 432x288 with 1 Axes>"
      ]
     },
     "metadata": {},
     "output_type": "display_data"
    }
   ],
   "source": [
    "# 여기에 코드\n",
    "rs=raw_data2['자살생각율']\n",
    "plt.pie(rs, labels=['그렇다', '아니다'], explode=[0, 0.02], autopct='%0.1f%%')\n",
    "plt.title('자살을 생각한 적 있다');"
   ]
  },
  {
   "cell_type": "markdown",
   "metadata": {},
   "source": [
    "## 한 줄(행)에 3개의 그래프를 그리기"
   ]
  },
  {
   "cell_type": "code",
   "execution_count": 68,
   "metadata": {
    "scrolled": true
   },
   "outputs": [
    {
     "data": {
      "image/png": "[encoded data removed]",
      "text/plain": [
       "<Figure size 720x504 with 4 Axes>"
      ]
     },
     "metadata": {},
     "output_type": "display_data"
    }
   ],
   "source": [
    "# 여기에 코드\n",
    "data_name=['스트레스', '스트레스', '우을감경험률', '자살생각율']\n",
    "title=['스트레스를 받은 적', '스트레스를 받은 적','우울증을 경험한 적 있다', '자살을 생각한 적 있다']\n",
    "label=['그렇다', '아니다']\n",
    "\n",
    "\n",
    "fig = plt.figure(figsize=(10,7))\n",
    "\n",
    "\n",
    "ax1 = plt.subplot(2,1,1)\n",
    "ax2 = plt.subplot(2,3,4)\n",
    "ax3 = plt.subplot(2,3,5)\n",
    "ax4 = plt.subplot(2,3,6)\n",
    "\n",
    "ax1.pie(raw_data2[data_name[0]], labels=label, explode=[0, 0.02], autopct='%0.1f%%')\n",
    "ax2.pie(raw_data2[data_name[1]], labels=label, explode=[0, 0.02], autopct='%0.1f%%')\n",
    "ax3.pie(raw_data2[data_name[2]], labels=label, explode=[0, 0.02], autopct='%0.1f%%')\n",
    "ax4.pie(raw_data2[data_name[3]], labels=label, explode=[0, 0.02], autopct='%0.1f%%')\n",
    "\n",
    "ax1.title.set_text(title[0])\n",
    "ax2.title.set_text(title[1])\n",
    "ax3.title.set_text(title[2])\n",
    "ax4.title.set_text(title[3])\n"
   ]
  },
  {
   "cell_type": "code",
   "execution_count": null,
   "metadata": {},
   "outputs": [],
   "source": []
  }
 ],
 "metadata": {
  "kernelspec": {
   "display_name": "Python 3",
   "language": "python",
   "name": "python3"
  },
  "language_info": {
   "codemirror_mode": {
    "name": "ipython",
    "version": 3
   },
   "file_extension": ".py",
   "mimetype": "text/x-python",
   "name": "python",
   "nbconvert_exporter": "python",
   "pygments_lexer": "ipython3",
   "version": "3.7.6"
  }
 },
 "nbformat": 4,
 "nbformat_minor": 2
}
