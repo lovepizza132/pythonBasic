{
 "cells": [
  {
   "cell_type": "markdown",
   "metadata": {},
   "source": [
    "### 붓꽃 데이타\n",
    "\n",
    "\tiris(붓꽃) 데이타셋 : 빅데이타, 머신러닝, 통계 등에서 많이 사용하는 데이타\n",
    "\t\t Sepal Length 꽃받침의 길이 정보이다.  \n",
    "\t\t Sepal Width 꽃받침의 너비 정보이다.  \n",
    "\t\t Petal Length 꽃잎의 길이 정보이다.  \n",
    "\t\t Petal Width 꽃잎의 너비 정보이다.    \n",
    "\t\t Species 꽃의 종류 정보이다. ( setosa / versicolor / virginica)\n",
    "\n",
    "\t붓꽃 데이타를 학습 데이타로 어느 모델에 넣었을 때 분꽃종류를 정확히 맞추면 \n",
    "\t그 모델은 성능이 좋은 분류(classfication) 모델이다.\n",
    "\t또한 여기는 label에 해당하는 Species가 있기에 지도학습에 해당된다.\n",
    "\n",
    " [참고] https://scikit-learn.org/stable/auto_examples/datasets/plot_iris_dataset.html\n",
    "\n",
    "\n",
    " [용어] 데이타셋에서 \n",
    "\t샘플 = 한 행 데이타\n",
    "\t특성 = 한 열 데이타"
   ]
  },
  {
   "cell_type": "code",
   "execution_count": null,
   "metadata": {},
   "outputs": [],
   "source": []
  },
  {
   "cell_type": "code",
   "execution_count": null,
   "metadata": {},
   "outputs": [],
   "source": [
    " # [참고] 간단하게 seaborn에 데이타셋으로 가져와서 그래프로 보면 꽃의 데이타로 species 를 알 수 있다\n",
    "import seaborn as sns\n",
    "sns.set(style='ticks')\n",
    "iris = sns.load_dataset('iris')\n",
    "sns.pairplot(iris, hue'species')\n",
    "plt.show()\n"
   ]
  },
  {
   "cell_type": "code",
   "execution_count": null,
   "metadata": {},
   "outputs": [],
   "source": []
  },
  {
   "cell_type": "code",
   "execution_count": null,
   "metadata": {},
   "outputs": [],
   "source": []
  },
  {
   "cell_type": "code",
   "execution_count": null,
   "metadata": {},
   "outputs": [],
   "source": []
  },
  {
   "cell_type": "code",
   "execution_count": null,
   "metadata": {},
   "outputs": [],
   "source": []
  }
 ],
 "metadata": {
  "kernelspec": {
   "display_name": "Python 3",
   "language": "python",
   "name": "python3"
  },
  "language_info": {
   "codemirror_mode": {
    "name": "ipython",
    "version": 3
   },
   "file_extension": ".py",
   "mimetype": "text/x-python",
   "name": "python",
   "nbconvert_exporter": "python",
   "pygments_lexer": "ipython3",
   "version": "3.7.3"
  }
 },
 "nbformat": 4,
 "nbformat_minor": 2
}
