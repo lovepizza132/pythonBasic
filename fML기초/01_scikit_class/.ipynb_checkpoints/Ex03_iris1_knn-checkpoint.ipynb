{
 "cells": [
  {
   "cell_type": "markdown",
   "metadata": {},
   "source": [
    " ### * sklearn 라이브러리에서 간단한 분류 모델에 관련하여 SVM과 KNN 이 있다\n",
    "\n",
    " KNN (K-Nearest Neighbors) : 최근접 분류기\n",
    "\t새로운 데이터가 들어오면 훈련데이타 중에서 가장 가까운 데이터 K개를 찾는다.\n",
    "\t이 중에서 빈도가 높은 label(결과)을 새 데이터의 레이블로 예측한다. \n",
    "\t\t- fit() : 학습기계에 데이터를 학습시키는 메소드\n",
    "\t\t- predict() : 데이터를 넣고 예측하는 메소드\n",
    "\t\t- score() : 정확도 측정\n",
    "\n",
    "svm(서포트벡터머신:분류, 회귀) 알고리즘 : 분류(SVC), 회귀(SVR)\n",
    "\t\t- fit() : 학습기계에 데이터를 학습시키는 메소드\n",
    "\t\t- predict() : 데이터를 넣고 예측하는 메소드\n",
    "\t\t- metrics.accuracy_score() : 정확도 측정 (검증)\n",
    "\n"
   ]
  },
  {
   "cell_type": "markdown",
   "metadata": {},
   "source": [
    "### * 절차\n",
    "\n",
    "(1) 데이타 읽어오기\n",
    "\n",
    "(2) 데이터와 레이블 분리 변수 선언\n",
    "\n",
    "(3) 훈련데이터와 테스트 데이터로 분리하기\n",
    "\n",
    "(4) 모델로 학습하기\n",
    "\n",
    "(5) 검증하기"
   ]
  },
  {
   "cell_type": "code",
   "execution_count": 4,
   "metadata": {},
   "outputs": [
    {
     "name": "stdout",
     "output_type": "stream",
     "text": [
      "dict_keys(['data', 'target', 'target_names', 'DESCR', 'feature_names', 'filename'])\n",
      "['setosa' 'versicolor' 'virginica']\n",
      "['sepal length (cm)', 'sepal width (cm)', 'petal length (cm)', 'petal width (cm)']\n"
     ]
    }
   ],
   "source": [
    "# (1) 데이타 읽어오기\n",
    "\n",
    "import numpy as np\n",
    "from sklearn import datasets\n",
    "\n",
    "iris = datasets.load_iris()\n",
    "print(iris.keys())\n",
    "#print(iris['data'])\n",
    "#print(iris['target'])\n",
    "print(iris['target_names'])\n",
    "print(iris['feature_names'])"
   ]
  },
  {
   "cell_type": "code",
   "execution_count": 6,
   "metadata": {},
   "outputs": [
    {
     "data": {
      "text/plain": [
       "'\\nprint(X_train[:10])\\nprint(X_test[:10])\\nprint(y_train[:10])\\nprint(y_test[:10])\\n'"
      ]
     },
     "execution_count": 6,
     "metadata": {},
     "output_type": "execute_result"
    }
   ],
   "source": [
    "# (2) 데이터와 레이블 분리 변수 선언\n",
    "from sklearn.model_selection import train_test_split\n",
    "\n",
    "X_train, X_test, y_train, y_test = train_test_split(iris['data'], iris['target'], random_state=0)\n",
    "\n",
    "'''\n",
    "print(X_train[:10])\n",
    "print(X_test[:10])\n",
    "print(y_train[:10])\n",
    "print(y_test[:10])\n",
    "'''"
   ]
  },
  {
   "cell_type": "code",
   "execution_count": 7,
   "metadata": {},
   "outputs": [
    {
     "data": {
      "text/plain": [
       "KNeighborsClassifier(algorithm='auto', leaf_size=30, metric='minkowski',\n",
       "           metric_params=None, n_jobs=None, n_neighbors=1, p=2,\n",
       "           weights='uniform')"
      ]
     },
     "execution_count": 7,
     "metadata": {},
     "output_type": "execute_result"
    }
   ],
   "source": [
    "# (3) 모델에 데이터를 학습하기\n",
    "# 훈련데이타와 훈련레이블를 인자로 넣어 학습한 결과 knn 객체를 리턴한다\n",
    "# n_neighbors : 이웃갯수 지정\n",
    "\n",
    "from sklearn.neighbors import KNeighborsClassifier\n",
    "knn = KNeighborsClassifier(n_neighbors=1)\n",
    "\n",
    "knn.fit(X_train, y_train) "
   ]
  },
  {
   "cell_type": "code",
   "execution_count": 8,
   "metadata": {},
   "outputs": [
    {
     "name": "stdout",
     "output_type": "stream",
     "text": [
      "[0]\n",
      "['setosa']\n"
     ]
    }
   ],
   "source": [
    "# (4) 새로운 샘플 데이타가 들어왔을 때 label 예측하기\n",
    "# 너무 동떨어진 데이타 입력하면 결과 예측 성능이 낮기에 기존 샘플과 유사하게 만듬\n",
    "newData = np.array([[5.1, 2.9, 1., 0.3]]) \n",
    "prediction = knn.predict(newData)\n",
    "print(prediction)\n",
    "# 결과가 [0]이 출력되는데 이는 0=setosa 품종으로 예측한 것이다.\n",
    "print(iris['target_names'][prediction])"
   ]
  },
  {
   "cell_type": "code",
   "execution_count": 9,
   "metadata": {
    "scrolled": true
   },
   "outputs": [
    {
     "name": "stdout",
     "output_type": "stream",
     "text": [
      "0.9736842105263158\n"
     ]
    }
   ],
   "source": [
    "# (5) 검증하기\n",
    "# 실제 레이블과 예측값의 정확도 확인\n",
    "print(knn.score(X_test, y_test))"
   ]
  },
  {
   "cell_type": "code",
   "execution_count": 10,
   "metadata": {},
   "outputs": [
    {
     "name": "stdout",
     "output_type": "stream",
     "text": [
      "정확도: 0.97\n"
     ]
    }
   ],
   "source": [
    "# (6) 정확도 측정 : mean() 함수 이용\n",
    "\"\"\"\n",
    "a = np.array([1,2,3,4])\n",
    "b = np.array([1,2,3,5])\n",
    "print(a==b)\n",
    "print(np.mean(a==b)) # True=1, False=0 의 평균\n",
    "\"\"\"\n",
    "\n",
    "y_predict = knn.predict(X_test)\n",
    "accuracy = np.mean(y_predict == y_test)\n",
    "print('정확도: {:.2f}'.format(accuracy))\n",
    "# 이 데이타와 모델의 성능은 97% 신뢰도를 갖는다\n",
    "# 이 데이타는 전문가에 의한 데이터로 신뢰가 높은 데이터이다."
   ]
  }
 ],
 "metadata": {
  "kernelspec": {
   "display_name": "Python 3",
   "language": "python",
   "name": "python3"
  },
  "language_info": {
   "codemirror_mode": {
    "name": "ipython",
    "version": 3
   },
   "file_extension": ".py",
   "mimetype": "text/x-python",
   "name": "python",
   "nbconvert_exporter": "python",
   "pygments_lexer": "ipython3",
   "version": "3.7.3"
  }
 },
 "nbformat": 4,
 "nbformat_minor": 2
}
