{
 "cells": [
  {
   "cell_type": "markdown",
   "metadata": {},
   "source": [
    "## 의사결정나무 (Decision Tree)\n",
    "\n",
    "\n",
    "[예제 ] 붓꽃(Iris) 품종 \n",
    "\n",
    "- 꽃잎(petal)과 꽃받침(sepal)의 폭과 길이를 측정하여 품종을 예측한다\n",
    "- 150개의 데이타에서 3가지 품종(setosa, versicolor, virginica)로 분류한다"
   ]
  },
  {
   "cell_type": "code",
   "execution_count": 3,
   "metadata": {},
   "outputs": [],
   "source": [
    "from sklearn import datasets\n",
    "from sklearn.model_selection import train_test_split\n",
    "from sklearn.preprocessing import StandardScaler\n",
    "import numpy as np"
   ]
  },
  {
   "cell_type": "code",
   "execution_count": 4,
   "metadata": {
    "collapsed": true
   },
   "outputs": [
    {
     "name": "stdout",
     "output_type": "stream",
     "text": [
      "dict_keys(['data', 'target', 'target_names', 'DESCR', 'feature_names', 'filename'])\n",
      ".. _iris_dataset:\n",
      "\n",
      "Iris plants dataset\n",
      "--------------------\n",
      "\n",
      "**Data Set Characteristics:**\n",
      "\n",
      "    :Number of Instances: 150 (50 in each of three classes)\n",
      "    :Number of Attributes: 4 numeric, predictive attributes and the class\n",
      "    :Attribute Information:\n",
      "        - sepal length in cm\n",
      "        - sepal width in cm\n",
      "        - petal length in cm\n",
      "        - petal width in cm\n",
      "        - class:\n",
      "                - Iris-Setosa\n",
      "                - Iris-Versicolour\n",
      "                - Iris-Virginica\n",
      "                \n",
      "    :Summary Statistics:\n",
      "\n",
      "    ============== ==== ==== ======= ===== ====================\n",
      "                    Min  Max   Mean    SD   Class Correlation\n",
      "    ============== ==== ==== ======= ===== ====================\n",
      "    sepal length:   4.3  7.9   5.84   0.83    0.7826\n",
      "    sepal width:    2.0  4.4   3.05   0.43   -0.4194\n",
      "    petal length:   1.0  6.9   3.76   1.76    0.9490  (high!)\n",
      "    petal width:    0.1  2.5   1.20   0.76    0.9565  (high!)\n",
      "    ============== ==== ==== ======= ===== ====================\n",
      "\n",
      "    :Missing Attribute Values: None\n",
      "    :Class Distribution: 33.3% for each of 3 classes.\n",
      "    :Creator: R.A. Fisher\n",
      "    :Donor: Michael Marshall (MARSHALL%PLU@io.arc.nasa.gov)\n",
      "    :Date: July, 1988\n",
      "\n",
      "The famous Iris database, first used by Sir R.A. Fisher. The dataset is taken\n",
      "from Fisher's paper. Note that it's the same as in R, but not as in the UCI\n",
      "Machine Learning Repository, which has two wrong data points.\n",
      "\n",
      "This is perhaps the best known database to be found in the\n",
      "pattern recognition literature.  Fisher's paper is a classic in the field and\n",
      "is referenced frequently to this day.  (See Duda & Hart, for example.)  The\n",
      "data set contains 3 classes of 50 instances each, where each class refers to a\n",
      "type of iris plant.  One class is linearly separable from the other 2; the\n",
      "latter are NOT linearly separable from each other.\n",
      "\n",
      ".. topic:: References\n",
      "\n",
      "   - Fisher, R.A. \"The use of multiple measurements in taxonomic problems\"\n",
      "     Annual Eugenics, 7, Part II, 179-188 (1936); also in \"Contributions to\n",
      "     Mathematical Statistics\" (John Wiley, NY, 1950).\n",
      "   - Duda, R.O., & Hart, P.E. (1973) Pattern Classification and Scene Analysis.\n",
      "     (Q327.D83) John Wiley & Sons.  ISBN 0-471-22361-1.  See page 218.\n",
      "   - Dasarathy, B.V. (1980) \"Nosing Around the Neighborhood: A New System\n",
      "     Structure and Classification Rule for Recognition in Partially Exposed\n",
      "     Environments\".  IEEE Transactions on Pattern Analysis and Machine\n",
      "     Intelligence, Vol. PAMI-2, No. 1, 67-71.\n",
      "   - Gates, G.W. (1972) \"The Reduced Nearest Neighbor Rule\".  IEEE Transactions\n",
      "     on Information Theory, May 1972, 431-433.\n",
      "   - See also: 1988 MLC Proceedings, 54-64.  Cheeseman et al\"s AUTOCLASS II\n",
      "     conceptual clustering system finds 3 classes in the data.\n",
      "   - Many, many more ...\n"
     ]
    }
   ],
   "source": [
    "# --------------------------------------------------\n",
    "# 1. 데이타 로딩\n",
    "\n",
    "iris = datasets.load_iris()\n",
    "\n",
    "# 데이터 key 확인\n",
    "print(iris.keys())\n",
    "\n",
    "# 데이터셋에 대한 설명\n",
    "print(iris['DESCR'])"
   ]
  },
  {
   "cell_type": "code",
   "execution_count": 5,
   "metadata": {},
   "outputs": [
    {
     "name": "stdout",
     "output_type": "stream",
     "text": [
      "타겟의 이름 : ['setosa' 'versicolor' 'virginica']\n",
      "특성의 이름 : ['sepal length (cm)', 'sepal width (cm)', 'petal length (cm)', 'petal width (cm)']\n",
      "데이타의 행과 열수 : (150, 4)\n"
     ]
    }
   ],
   "source": [
    "#[참고] 데이타 뜯어보기\n",
    "\n",
    "# 예측하려는(타겟) 품종의 이름\n",
    "print(\"타겟의 이름 : {}\".format(iris['target_names']))\n",
    "\n",
    "# 특성(컬럼)명\n",
    "print(\"특성의 이름 : {}\".format(iris['feature_names']))\n",
    "\n",
    "# 데이타의 크기\n",
    "print(\"데이타의 행과 열수 : {}\".format(iris['data'].shape))"
   ]
  },
  {
   "cell_type": "code",
   "execution_count": 6,
   "metadata": {
    "collapsed": true
   },
   "outputs": [
    {
     "data": {
      "text/html": [
       "<div>\n",
       "<style scoped>\n",
       "    .dataframe tbody tr th:only-of-type {\n",
       "        vertical-align: middle;\n",
       "    }\n",
       "\n",
       "    .dataframe tbody tr th {\n",
       "        vertical-align: top;\n",
       "    }\n",
       "\n",
       "    .dataframe thead th {\n",
       "        text-align: right;\n",
       "    }\n",
       "</style>\n",
       "<table border=\"1\" class=\"dataframe\">\n",
       "  <thead>\n",
       "    <tr style=\"text-align: right;\">\n",
       "      <th></th>\n",
       "      <th>sepal length (cm)</th>\n",
       "      <th>sepal width (cm)</th>\n",
       "      <th>petal length (cm)</th>\n",
       "      <th>petal width (cm)</th>\n",
       "    </tr>\n",
       "  </thead>\n",
       "  <tbody>\n",
       "    <tr>\n",
       "      <th>0</th>\n",
       "      <td>5.1</td>\n",
       "      <td>3.5</td>\n",
       "      <td>1.4</td>\n",
       "      <td>0.2</td>\n",
       "    </tr>\n",
       "    <tr>\n",
       "      <th>1</th>\n",
       "      <td>4.9</td>\n",
       "      <td>3.0</td>\n",
       "      <td>1.4</td>\n",
       "      <td>0.2</td>\n",
       "    </tr>\n",
       "    <tr>\n",
       "      <th>2</th>\n",
       "      <td>4.7</td>\n",
       "      <td>3.2</td>\n",
       "      <td>1.3</td>\n",
       "      <td>0.2</td>\n",
       "    </tr>\n",
       "    <tr>\n",
       "      <th>3</th>\n",
       "      <td>4.6</td>\n",
       "      <td>3.1</td>\n",
       "      <td>1.5</td>\n",
       "      <td>0.2</td>\n",
       "    </tr>\n",
       "    <tr>\n",
       "      <th>4</th>\n",
       "      <td>5.0</td>\n",
       "      <td>3.6</td>\n",
       "      <td>1.4</td>\n",
       "      <td>0.2</td>\n",
       "    </tr>\n",
       "  </tbody>\n",
       "</table>\n",
       "</div>"
      ],
      "text/plain": [
       "   sepal length (cm)  sepal width (cm)  petal length (cm)  petal width (cm)\n",
       "0                5.1               3.5                1.4               0.2\n",
       "1                4.9               3.0                1.4               0.2\n",
       "2                4.7               3.2                1.3               0.2\n",
       "3                4.6               3.1                1.5               0.2\n",
       "4                5.0               3.6                1.4               0.2"
      ]
     },
     "execution_count": 6,
     "metadata": {},
     "output_type": "execute_result"
    }
   ],
   "source": [
    "# 2. 데이터셋을 데이타프레임으로 변환\n",
    "import pandas as pd\n",
    "df = pd.DataFrame( iris.data )\n",
    "df.head()\n",
    "\n",
    "# 컬럼명 지정\n",
    "df.columns = iris.feature_names\n",
    "df.head()"
   ]
  },
  {
   "cell_type": "code",
   "execution_count": 7,
   "metadata": {},
   "outputs": [
    {
     "name": "stdout",
     "output_type": "stream",
     "text": [
      "[[5.  2.  3.5 1. ]\n",
      " [6.5 3.  5.5 1.8]\n",
      " [6.7 3.3 5.7 2.5]\n",
      " [6.  2.2 5.  1.5]\n",
      " [6.7 2.5 5.8 1.8]]\n",
      "[[-1.02366372 -2.37846268 -0.18295039 -0.29318114]\n",
      " [ 0.69517462 -0.10190314  0.93066067  0.7372463 ]\n",
      " [ 0.92435306  0.58106472  1.04202177  1.63887031]\n",
      " [ 0.1222285  -1.92315077  0.6522579   0.35083601]\n",
      " [ 0.92435306 -1.24018291  1.09770233  0.7372463 ]]\n"
     ]
    }
   ],
   "source": [
    "# petal 요소만 선택 - 2,3열 (3,4번째 필드)만 선택\n",
    "# X = iris.data[:, [2,3]]\n",
    "X = iris.data\n",
    "y = iris.target\n",
    "\n",
    "# 3. 데이타셋을 분리 ( 학습용:검증용 = 7:3 )\n",
    "X_train, X_test, y_train, y_test = train_test_split(X, y, test_size=0.3, random_state=0)\n",
    "        # test_size : 학습용과 테스트용 데이타분리 비율\n",
    "        # random_state : 난수 발생을 위한 seed값\n",
    "\n",
    "# 4. 데이타 표준화 작업 ( 0.0~1.0 사이의 값으로 표준화 )\n",
    "sc = StandardScaler()\n",
    "sc.fit(X_train)\n",
    "\n",
    "# 표준화된 데이터셋 확인\n",
    "X_train_std = sc.transform(X_train)\n",
    "X_test_std=sc.transform(X_test)\n",
    "print(X_train[:5])\n",
    "print(X_train_std[:5])"
   ]
  },
  {
   "cell_type": "code",
   "execution_count": 8,
   "metadata": {},
   "outputs": [
    {
     "name": "stdout",
     "output_type": "stream",
     "text": [
      "학습용 데이터셋 정확도: 0.981\n",
      "검증용 데이터셋 정확도: 0.978\n"
     ]
    }
   ],
   "source": [
    "# 5. 트리 모델 생성\n",
    "\n",
    "from sklearn.tree import DecisionTreeClassifier\n",
    "\n",
    "iris_tree = DecisionTreeClassifier(criterion='entropy', max_depth=3, random_state=0)\n",
    "        # 분류 알고리즘 종류 : criterion='entropy'\n",
    "        # 나중에 max_depth=3의 값을 조절하면서 확인(****)\n",
    "        # max_depth=5로 하면 과적합에 가깝다\n",
    "\n",
    "iris_tree.fit(X_train, y_train)\n",
    "\n",
    "print('학습용 데이터셋 정확도: {:.3f}'.format(iris_tree.score(X_train, y_train)))\n",
    "print('검증용 데이터셋 정확도: {:.3f}'.format(iris_tree.score(X_test, y_test)))"
   ]
  },
  {
   "cell_type": "markdown",
   "metadata": {},
   "source": [
    "# 결정트리 시각화"
   ]
  },
  {
   "cell_type": "markdown",
   "metadata": {},
   "source": [
    "[ 참고 ] graphviz 설치\n",
    "\n",
    "- pip install graphviz\n",
    "\n",
    "\n",
    "- 아래 설치와 환경설정이 필요한가?\n",
    "\n",
    "- http://www.graphviz.org/download/ \n",
    "\n",
    "   > Windows > Stable 2.38 Windows install packages > graphviz-2.38.msi 다운로드 받아 실행\n",
    "\n",
    "- 환경변수 지정 (소스에서 ) : C:/Program Files (x86)/Graphviz2.38/bin/\n",
    "\n",
    "\n",
    "\n",
    "        import os\n",
    "\n",
    "        os.environ['PATH'] += os.pathsep + 'C:/Program Files (x86)/Graphviz2.38/bin/'\n"
   ]
  },
  {
   "cell_type": "code",
   "execution_count": 1,
   "metadata": {},
   "outputs": [],
   "source": [
    "# !pip install graphviz"
   ]
  },
  {
   "cell_type": "code",
   "execution_count": 2,
   "metadata": {},
   "outputs": [],
   "source": [
    "# pydotplus 설치\n",
    "# ! pip install pydotplus"
   ]
  },
  {
   "cell_type": "code",
   "execution_count": 2,
   "metadata": {},
   "outputs": [],
   "source": [
    "from sklearn.tree import export_graphviz\n",
    "import pydotplus\n",
    "import graphviz\n",
    "from IPython.display import Image"
   ]
  },
  {
   "cell_type": "code",
   "execution_count": 4,
   "metadata": {
    "scrolled": true
   },
   "outputs": [],
   "source": [
    "# graphviz의 경로를 환경변수 PATH에 등록\n",
    "import os\n",
    "os.environ['PATH'] += os.pathsep + 'C:/Program Files (x86)/Graphviz2.38/bin/'\n",
    "\n",
    "dot_data = export_graphviz(iris_tree, out_file=None, feature_names=iris.feature_names,\n",
    "                          class_names=iris.target_names, filled=True, rounded=True, special_characters=True)\n",
    "\n",
    "        #dot_data = export_graphviz(iris_tree, out_file=None, feature_names=['petal length', 'petal width'],\n",
    "        #                          class_names=iris.target_names, filled=True, rounded=True, special_characters=True)\n",
    "\n",
    "\n",
    "# 그래프 생성\n",
    "# graph = pydotplus.graph_from_dot_data(dot_data)\n",
    "# 그래프를 이미지로 변환\n",
    "# Image(graph.create_png())"
   ]
  },
  {
   "cell_type": "code",
   "execution_count": null,
   "metadata": {},
   "outputs": [],
   "source": []
  }
 ],
 "metadata": {
  "kernelspec": {
   "display_name": "Python 3",
   "language": "python",
   "name": "python3"
  },
  "language_info": {
   "codemirror_mode": {
    "name": "ipython",
    "version": 3
   },
   "file_extension": ".py",
   "mimetype": "text/x-python",
   "name": "python",
   "nbconvert_exporter": "python",
   "pygments_lexer": "ipython3",
   "version": "3.7.6"
  }
 },
 "nbformat": 4,
 "nbformat_minor": 2
}
