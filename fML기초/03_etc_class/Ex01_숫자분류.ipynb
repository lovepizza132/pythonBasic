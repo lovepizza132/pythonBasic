{
 "cells": [
  {
   "cell_type": "markdown",
   "metadata": {},
   "source": [
    "##  1. 손글씨 숫자\n",
    "\n",
    "+ 원복 데이타\n",
    "    - UCI Machine Leanring Repository 에 공개\n",
    "    - http://archive.ics.uci.edu/ml/datasets  > optical recognition of handwritten digits\n",
    "    - 8x8 픽셀의 2차원 배열의 데이타가 5620개\n",
    "\n",
    "\n",
    "+ scikit-learn 에 있는 손글씨 숫자 데이타\n",
    "        from sklearn.datasets import load_digits\n",
    "        digits = load_digits()\n",
    "\n",
    "+ 데이타 구조\n",
    "        digit.images - 이미지 데이터 배열\n",
    "        digit.target - 데이터가 어떤 숫자인지 (레이블)\n",
    "    "
   ]
  },
  {
   "cell_type": "code",
   "execution_count": 13,
   "metadata": {},
   "outputs": [
    {
     "name": "stdout",
     "output_type": "stream",
     "text": [
      "[[ 0.  0.  0. 12. 13.  5.  0.  0.]\n",
      " [ 0.  0.  0. 11. 16.  9.  0.  0.]\n",
      " [ 0.  0.  3. 15. 16.  6.  0.  0.]\n",
      " [ 0.  7. 15. 16. 16.  2.  0.  0.]\n",
      " [ 0.  0.  1. 16. 16.  3.  0.  0.]\n",
      " [ 0.  0.  1. 16. 16.  6.  0.  0.]\n",
      " [ 0.  0.  1. 16. 16.  6.  0.  0.]\n",
      " [ 0.  0.  0. 11. 16. 10.  0.  0.]]\n",
      "1\n"
     ]
    }
   ],
   "source": [
    "# 숫자 데이타 로드하여 숫자 로드\n",
    "from sklearn.datasets import load_digits\n",
    "digits = load_digits()\n",
    "\n",
    "print(digits.images[1])\n",
    "print(digits.target[1])"
   ]
  },
  {
   "cell_type": "code",
   "execution_count": 14,
   "metadata": {
    "scrolled": true
   },
   "outputs": [
    {
     "data": {
      "text/plain": [
       "<matplotlib.image.AxesImage at 0x233204a2548>"
      ]
     },
     "execution_count": 14,
     "metadata": {},
     "output_type": "execute_result"
    },
    {
     "data": {
      "image/png": "[encoded data removed]",
      "text/plain": [
       "<Figure size 432x288 with 1 Axes>"
      ]
     },
     "metadata": {
      "needs_background": "light"
     },
     "output_type": "display_data"
    }
   ],
   "source": [
    "# 이미지를 회색 스케일로 변환\n",
    "%matplotlib inline\n",
    "import pylab as pl\n",
    "\n",
    "pl.gray()\n",
    "\n",
    "pl.imshow(digits.images[1])\n",
    "\n",
    "# pl.show(): display a figure - 그래프 그릴 때\n",
    "# pl.imshow(): display a image - data를 이미지로 표현할 때\n"
   ]
  },
  {
   "cell_type": "code",
   "execution_count": 17,
   "metadata": {},
   "outputs": [
    {
     "data": {
      "image/png": "[encoded data removed]",
      "text/plain": [
       "<Figure size 432x288 with 10 Axes>"
      ]
     },
     "metadata": {
      "needs_background": "light"
     },
     "output_type": "display_data"
    }
   ],
   "source": [
    "# 10개 출력해보기\n",
    "import matplotlib.pyplot as plt\n",
    "\n",
    "for i in range(10):\n",
    "    plt.subplot(2,5,i+1)\n",
    "    plt.imshow(digits.images[i])\n",
    "\n"
   ]
  },
  {
   "cell_type": "code",
   "execution_count": null,
   "metadata": {},
   "outputs": [],
   "source": [
    "\n",
    "\n"
   ]
  },
  {
   "cell_type": "markdown",
   "metadata": {},
   "source": [
    "## 2. 이미지 머신러닝 - LinearSVC이용\n",
    "\n",
    "    학습 데이타   - 80 %\n",
    "    테스트 데이타 - 20 %"
   ]
  },
  {
   "cell_type": "code",
   "execution_count": 40,
   "metadata": {},
   "outputs": [
    {
     "name": "stderr",
     "output_type": "stream",
     "text": [
      "C:\\Users\\Canon\\anaconda3\\lib\\site-packages\\sklearn\\svm\\_base.py:947: ConvergenceWarning: Liblinear failed to converge, increase the number of iterations.\n",
      "  \"the number of iterations.\", ConvergenceWarning)\n"
     ]
    },
    {
     "data": {
      "text/plain": [
       "0.9355555555555556"
      ]
     },
     "execution_count": 40,
     "metadata": {},
     "output_type": "execute_result"
    }
   ],
   "source": [
    "from sklearn.model_selection import train_test_split\n",
    "from sklearn import datasets, svm, metrics\n",
    "from sklearn.metrics import accuracy_score\n",
    "\n",
    "# 데이터 읽어 들이기 --- (*1)\n",
    "digits = datasets.load_digits()\n",
    "X = digits.images # 2차원 배열\n",
    "y = digits.target\n",
    "\n",
    "# 2차원 배열을 1차원 배열로 변환하기 --- (*2)\n",
    "X = X.reshape(-1, 64)\n",
    "X.shape\n",
    "\n",
    "# 데이터를 학습 전용과 테스트 전용으로 분리하기 --- (*3)\n",
    "X_train, X_test, y_train, y_test = train_test_split(X,y)\n",
    "\n",
    "\n",
    "# 데이터 학습하기 --- (*4)\n",
    "model = svm.LinearSVC()\n",
    "fit = model.fit(X_train, y_train)\n",
    "\n",
    "\n",
    "# 예측하고 정답률 출력하기 --- (*5)\n",
    "y_predict = model.predict(X_test)\n",
    "ac_score = accuracy_score(y_test, y_predict)\n",
    "ac_score\n"
   ]
  },
  {
   "cell_type": "markdown",
   "metadata": {},
   "source": [
    "[결과] 실행할 때마다 정답률이 달라진다. 일반적으로 0.93~0.96 정도의 정답률이 나온다"
   ]
  },
  {
   "cell_type": "code",
   "execution_count": 47,
   "metadata": {},
   "outputs": [
    {
     "data": {
      "image/png": "[encoded data removed]",
      "text/plain": [
       "<Figure size 432x288 with 10 Axes>"
      ]
     },
     "metadata": {
      "needs_background": "light"
     },
     "output_type": "display_data"
    }
   ],
   "source": [
    "# 예측값과 실제 숫자 비교\n",
    "img_prediction = list(zip(digits.images, fit.predict(X)))\n",
    "\n",
    "# for 요소 in 집합:\n",
    "for index, (image,prediction) in enumerate(img_prediction[:10]):\n",
    "    plt.subplot(3,4,index+2)\n",
    "    plt.imshow(image)\n",
    "    plt.title(\"prediction: \"+ str(prediction))\n",
    "    plt.axis('off')\n",
    "\n"
   ]
  },
  {
   "cell_type": "markdown",
   "metadata": {},
   "source": [
    "#### [ 참고 ] 파이썬 기본 함수 : https://wikidocs.net/32\n",
    "\n",
    "*zip()와 list()\n",
    "\n",
    "list(zip([1, 2, 3], [4, 5, 6])) ->\n",
    "    [(1, 4), (2, 5), (3, 6)]\n",
    "    \n",
    "list(zip([1, 2, 3], [4, 5, 6], [7, 8, 9])) ->\n",
    "    [(1, 4, 7), (2, 5, 8), (3, 6, 9)]\n",
    "    \n",
    "list(zip(\"abc\", \"def\")) -> \n",
    "    [('a', 'd'), ('b', 'e'), ('c', 'f')]"
   ]
  },
  {
   "cell_type": "markdown",
   "metadata": {},
   "source": [
    "## 3. 작성한 이미지 판단하기\n",
    "\n",
    "    - 그림판에서 정사각형 크기(동일 픽셀)를 만들고 검정색 굵은 선으로 숫자를 그리고 'my.png'로 저장한다\n",
    "      ( 직접 손글씨 이미지 만들기  ( 200px * 200px ) )\n",
    "      \n",
    "    - open cv를 이용하여 이미지를 픽셀데이타로 변경한다\n",
    "    \n",
    "* open cv\n",
    "    - https://opencv.org\n",
    "\n",
    "\n",
    "\n",
    "[ 참고 ] opencv 관련\n",
    "\n",
    "- https://opencv-python.readthedocs.io/en/latest/doc/08.imageProcessing/imageProcessing.html\n",
    "\n",
    "- https://076923.github.io/posts/Python-opencv-10/\n",
    "    "
   ]
  },
  {
   "cell_type": "code",
   "execution_count": 48,
   "metadata": {},
   "outputs": [
    {
     "name": "stdout",
     "output_type": "stream",
     "text": [
      "Collecting opencv-python\n",
      "  Downloading opencv_python-4.3.0.36-cp37-cp37m-win_amd64.whl (33.4 MB)\n",
      "Requirement already satisfied: numpy>=1.14.5 in c:\\users\\canon\\anaconda3\\lib\\site-packages (from opencv-python) (1.18.1)\n",
      "Installing collected packages: opencv-python\n",
      "Successfully installed opencv-python-4.3.0.36\n"
     ]
    }
   ],
   "source": [
    "# opencv 인스톨\n",
    "# !pip install opencv-python"
   ]
  },
  {
   "cell_type": "code",
   "execution_count": 52,
   "metadata": {},
   "outputs": [],
   "source": [
    "import cv2\n",
    "from sklearn.externals import joblib\n",
    "\n",
    "def predict_digit(filename):\n",
    "\n",
    "    # 직접 그린 손글씨 이미지 읽어 들이기\n",
    "    my_img = cv2.imread(filename, cv2.IMREAD_COLOR)\n",
    "    \n",
    "    # 이미지 데이터를 학습에 적합하게 변환하기\n",
    "    my_img = cv2.cvtColor(my_img, cv2.COLOR_BGR2GRAY)\n",
    "   \n",
    "    \n",
    "    my_img = cv2.resize(my_img, (8, 8))\n",
    "    my_img = 15 - my_img // 16 # 흑백 반전\n",
    "    # 2차원 배열을 1차원 배열로 변환하기\n",
    "    my_img = my_img.reshape((-1, 64))\n",
    "    # 데이터 예측하기\n",
    "    res = model.predict(my_img)\n",
    "    return res[0]\n",
    "\n"
   ]
  },
  {
   "cell_type": "code",
   "execution_count": 153,
   "metadata": {},
   "outputs": [
    {
     "name": "stdout",
     "output_type": "stream",
     "text": [
      "결과: 4\n"
     ]
    }
   ],
   "source": [
    "# 이미지 파일을 지정해서 실행하기\n",
    "result = predict_digit('img/my.png')\n",
    "print('결과: '+ str(result))"
   ]
  },
  {
   "cell_type": "code",
   "execution_count": null,
   "metadata": {},
   "outputs": [],
   "source": []
  },
  {
   "cell_type": "markdown",
   "metadata": {},
   "source": [
    "## [참고] 나이브베이즈 분류기 중 가우스 분포를 사용해 분류 \n",
    "\n",
    "위에서  LinearSVC 예제와 비교만하자"
   ]
  },
  {
   "cell_type": "code",
   "execution_count": 158,
   "metadata": {},
   "outputs": [],
   "source": [
    "from sklearn.datasets import load_digits\n",
    "from sklearn.model_selection import train_test_split\n",
    "from sklearn.naive_bayes import GaussianNB\n",
    "from sklearn.metrics import confusion_matrix\n",
    "import pylab as plt"
   ]
  },
  {
   "cell_type": "code",
   "execution_count": 159,
   "metadata": {},
   "outputs": [
    {
     "name": "stdout",
     "output_type": "stream",
     "text": [
      "[[ 0.  0.  5. ...  0.  0.  0.]\n",
      " [ 0.  0.  0. ... 10.  0.  0.]\n",
      " [ 0.  0.  0. ... 16.  9.  0.]\n",
      " ...\n",
      " [ 0.  0.  1. ...  6.  0.  0.]\n",
      " [ 0.  0.  2. ... 12.  0.  0.]\n",
      " [ 0.  0. 10. ... 12.  1.  0.]]\n"
     ]
    }
   ],
   "source": [
    "# 숫자 데이타 로드\n",
    "digits = load_digits()\n",
    "\n",
    "# 목표변수 \n",
    "y = digits.target\n",
    "\n",
    "# 데이타준비\n",
    "n_sample = len(digits.images)\n",
    "X = digits.images.reshape((n_sample, -1)) \n",
    "    # reshape() : 10*10 행렬을 100 벡터(리스트?)로 변경\n",
    "print(X)    "
   ]
  },
  {
   "cell_type": "code",
   "execution_count": 160,
   "metadata": {},
   "outputs": [
    {
     "name": "stdout",
     "output_type": "stream",
     "text": [
      "train :  1347 , test :  450\n"
     ]
    }
   ],
   "source": [
    "# 데이타셋과 훈련셋으로 분할\n",
    "X_train, X_test, y_train, y_test = train_test_split(X, y, random_state=0)\n",
    "print('train : ', len(X_train), ', test : ' , len(X_test))"
   ]
  },
  {
   "cell_type": "code",
   "execution_count": 183,
   "metadata": {},
   "outputs": [
    {
     "data": {
      "text/plain": [
       "array([[37,  0,  0,  0,  0,  0,  0,  0,  0,  0],\n",
       "       [ 0, 39,  0,  0,  0,  0,  0,  0,  4,  0],\n",
       "       [ 0,  7, 20,  2,  0,  0,  0,  0, 15,  0],\n",
       "       [ 0,  0,  0, 39,  0,  0,  0,  1,  5,  0],\n",
       "       [ 0,  1,  0,  0, 31,  0,  0,  6,  0,  0],\n",
       "       [ 0,  1,  0,  1,  0, 43,  0,  3,  0,  0],\n",
       "       [ 0,  0,  1,  0,  0,  0, 51,  0,  0,  0],\n",
       "       [ 0,  0,  0,  0,  1,  0,  0, 47,  0,  0],\n",
       "       [ 0,  6,  0,  1,  0,  1,  0,  2, 38,  0],\n",
       "       [ 0,  2,  0,  4,  1,  0,  0,  3,  7, 30]], dtype=int64)"
      ]
     },
     "execution_count": 183,
     "metadata": {},
     "output_type": "execute_result"
    }
   ],
   "source": [
    "# 나이브 베이즈 분류기 선택(Classifier) - 가우스분포를 사용해 확률을 추산\n",
    "gnb = GaussianNB()\n",
    "fit = gnb.fit(X_train, y_train)  # 데이타 적합화\n",
    "\n",
    "# 예측하기\n",
    "predicted = fit.predict(X_test)\n",
    "\n",
    "# Confusion matrix 생성\n",
    "#   : 예측된 결과가 얼마나 혼돈(잘못)되었는지 볼 수 있는 2차원 배열\n",
    "result = confusion_matrix(y_test, predicted)\n",
    "result\n"
   ]
  },
  {
   "cell_type": "code",
   "execution_count": null,
   "metadata": {},
   "outputs": [],
   "source": []
  },
  {
   "cell_type": "code",
   "execution_count": 184,
   "metadata": {},
   "outputs": [
    {
     "data": {
      "image/png": "[encoded data removed]",
      "text/plain": [
       "<Figure size 432x288 with 10 Axes>"
      ]
     },
     "metadata": {
      "needs_background": "light"
     },
     "output_type": "display_data"
    }
   ],
   "source": [
    "# 예측값과 실제 숫자 비교\n",
    "images_and_predictions = list(zip(digits.images, fit.predict(X)))\n",
    "for index, (image, prediction) in enumerate(images_and_predictions[:10]):\n",
    "    plt.subplot(5, 3, index+5 )  # 5행 3열 subplot을 만들고 5번째부터 지정(?)\n",
    "    plt.axis('off')  # 축을 나타내기 않음\n",
    "    plt.imshow(image, cmap=plt.cm.gray_r, interpolation='nearest') # 서브플롯으로 채워진 전체 플롯을 보여준다\n",
    "    plt.title('prediction: %i' % prediction )\n",
    "\n",
    "plt.show()"
   ]
  },
  {
   "cell_type": "markdown",
   "metadata": {},
   "source": [
    " [결과]\n",
    "    8이라고 예측했는데 2라는 것이다.\n",
    "    3이라고 예측했는데 아마도 5인 듯\n",
    "\n",
    "\n",
    "` 이 예제는 숫자를 확인하고자 하는 샘플예문이다"
   ]
  },
  {
   "cell_type": "markdown",
   "metadata": {},
   "source": []
  },
  {
   "cell_type": "markdown",
   "metadata": {},
   "source": [
    "### [참고]\n",
    "+ 학습한 데이터 저장하기\n",
    "        from sklearn.externals import joblib\n",
    "        joblib.dump(clf, 'digits.pkl')\n",
    "\n",
    "+  학습한 데이타 읽어오기\n",
    "        clf = joblib.load('digits.pkl')"
   ]
  }
 ],
 "metadata": {
  "kernelspec": {
   "display_name": "Python 3",
   "language": "python",
   "name": "python3"
  },
  "language_info": {
   "codemirror_mode": {
    "name": "ipython",
    "version": 3
   },
   "file_extension": ".py",
   "mimetype": "text/x-python",
   "name": "python",
   "nbconvert_exporter": "python",
   "pygments_lexer": "ipython3",
   "version": "3.7.6"
  }
 },
 "nbformat": 4,
 "nbformat_minor": 2
}
